{
 "cells": [
  {
   "cell_type": "code",
   "execution_count": 4,
   "metadata": {},
   "outputs": [],
   "source": [
    "from game import predict_number\n",
    "import numpy as np\n",
    "import time, statistics\n",
    "\n",
    "\n",
    "def many_calls(func, args: tuple) -> tuple:\n",
    "    \"\"\"calls function func with each element of args as a func arguments and create a tuple with returning values\n",
    "\n",
    "    Args:\n",
    "        func (*arg): function to be called with *arg arguments\n",
    "        args (tuple): Each element of tuple arguments for each function call\n",
    "\n",
    "    Returns:\n",
    "        tuple: contains returning values\n",
    "    \"\"\"\n",
    "    return tuple(func(*arg) for arg in args)"
   ]
  },
  {
   "cell_type": "markdown",
   "metadata": {},
   "source": [
    "# Experiment with 1000 different random numbers"
   ]
  },
  {
   "cell_type": "code",
   "execution_count": 5,
   "metadata": {},
   "outputs": [
    {
     "name": "stdout",
     "output_type": "stream",
     "text": [
      "Average number of tries: 5.778\n",
      "Approximate calculation time is 1830500\n"
     ]
    }
   ],
   "source": [
    "base_seed = 1 # you can play with seed,\n",
    "start_value = 1 # start_value,\n",
    "end_value = 101 # end_value,\n",
    "exp_num = 1000 #  and number of experiments\n",
    "np.random.seed(base_seed)\n",
    "random_numbers = tuple((np.random.randint(start_value, end_value), start_value, end_value) for i in range(exp_num))\n",
    "start_time = time.perf_counter_ns()\n",
    "answer_array = many_calls(predict_number, random_numbers)\n",
    "end_time = time.perf_counter_ns()\n",
    "print(f\"Average number of tries: {statistics.mean(answer_array)}\")\n",
    "print(f\"Approximate calculation time is {end_time - start_time}\")"
   ]
  },
  {
   "cell_type": "markdown",
   "metadata": {},
   "source": [
    "# Experiment with 1000 different seeds"
   ]
  },
  {
   "cell_type": "code",
   "execution_count": 6,
   "metadata": {},
   "outputs": [
    {
     "name": "stdout",
     "output_type": "stream",
     "text": [
      "Average number of tries: 5.786\n",
      "Approximate calculation time is 1613700\n"
     ]
    }
   ],
   "source": [
    "start_value = 1 # you can play with start_value,\n",
    "end_value = 101 # end_value,\n",
    "exp_num = 1000 #  and number of experiments\n",
    "random_numbers = []\n",
    "for i in range(exp_num):\n",
    "    np.random.seed(i)\n",
    "    random_numbers.append((np.random.randint(start_value, end_value), start_value, end_value))\n",
    "start_time = time.perf_counter_ns()\n",
    "answer_array = many_calls(predict_number, tuple(random_numbers))\n",
    "end_time = time.perf_counter_ns()\n",
    "print(f\"Average number of tries: {statistics.mean(answer_array)}\")\n",
    "print(f\"Approximate calculation time is {end_time - start_time}\")"
   ]
  }
 ],
 "metadata": {
  "kernelspec": {
   "display_name": "Python 3.10.8 64-bit (microsoft store)",
   "language": "python",
   "name": "python3"
  },
  "language_info": {
   "codemirror_mode": {
    "name": "ipython",
    "version": 3
   },
   "file_extension": ".py",
   "mimetype": "text/x-python",
   "name": "python",
   "nbconvert_exporter": "python",
   "pygments_lexer": "ipython3",
   "version": "3.10.8"
  },
  "orig_nbformat": 4,
  "vscode": {
   "interpreter": {
    "hash": "6797e30d6b54aa8a84310a1df5d986eea90931045a79744cae029776e54522d6"
   }
  }
 },
 "nbformat": 4,
 "nbformat_minor": 2
}
