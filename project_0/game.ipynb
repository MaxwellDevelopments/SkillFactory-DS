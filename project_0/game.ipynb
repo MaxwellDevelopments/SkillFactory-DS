{
 "cells": [
  {
   "cell_type": "code",
   "execution_count": 1,
   "metadata": {},
   "outputs": [],
   "source": [
    "from game import predict_number\n",
    "import numpy as np\n",
    "import time"
   ]
  },
  {
   "cell_type": "markdown",
   "metadata": {},
   "source": [
    "# Experiment with 100 different seeds"
   ]
  },
  {
   "cell_type": "code",
   "execution_count": 8,
   "metadata": {},
   "outputs": [
    {
     "name": "stdout",
     "output_type": "stream",
     "text": [
      "                        Results                        \n",
      "    6    6    2    7    6    6    6    4    4    5\n",
      "    6    6    7    7    6    7    5    4    6    6\n",
      "    7    6    5    6    6    6    6    6    7    6\n",
      "    7    6    7    5    7    7    5    5    5    5\n",
      "    5    7    6    7    6    3    6    7    4    7\n",
      "    7    6    6    7    5    7    7    7    1    5\n",
      "    4    4    7    6    7    7    4    7    7    6\n",
      "    5    7    6    4    6    5    6    7    6    6\n",
      "    4    5    7    4    7    7    5    7    6    7\n",
      "    6    4    6    6    6    6    6    6    6    7\n",
      "\n",
      "Approximate calculation time is 5874200 nanoseconds\n"
     ]
    }
   ],
   "source": [
    "start_value = 1\n",
    "end_value = 100\n",
    "print(\"{:^55s}\".format(\"Results\"))\n",
    "\n",
    "start_time = time.perf_counter_ns()\n",
    "for base_seed in range(1, 101):\n",
    "    np.random.seed(base_seed)\n",
    "    print('{:5d}'.format(predict_number(np.random.randint(start_value, end_value), start_value, end_value)), end='')\n",
    "    if (base_seed) % 10 == 0:\n",
    "        print()\n",
    "end_time = time.perf_counter_ns()\n",
    "\n",
    "print(f\"\\nApproximate calculation time is {end_time - start_time} nanoseconds\")"
   ]
  }
 ],
 "metadata": {
  "kernelspec": {
   "display_name": "Python 3.10.8 64-bit (microsoft store)",
   "language": "python",
   "name": "python3"
  },
  "language_info": {
   "codemirror_mode": {
    "name": "ipython",
    "version": 3
   },
   "file_extension": ".py",
   "mimetype": "text/x-python",
   "name": "python",
   "nbconvert_exporter": "python",
   "pygments_lexer": "ipython3",
   "version": "3.10.8"
  },
  "orig_nbformat": 4,
  "vscode": {
   "interpreter": {
    "hash": "6797e30d6b54aa8a84310a1df5d986eea90931045a79744cae029776e54522d6"
   }
  }
 },
 "nbformat": 4,
 "nbformat_minor": 2
}
